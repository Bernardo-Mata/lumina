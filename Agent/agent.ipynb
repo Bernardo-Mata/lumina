{
 "cells": [
  {
   "cell_type": "code",
   "execution_count": 23,
   "id": "2d876431",
   "metadata": {},
   "outputs": [],
   "source": [
    "import cohere\n",
    "from getpass import getpass\n",
    "import os\n",
    "import requests\n",
    "from flask import Flask, request, jsonify\n",
    "# from flask_cors import CORS\n",
    "from fastapi import FastAPI\n",
    "\n",
    "# Get Cohere API key securely\n",
    "COHERE_API_KEY = getpass(\"Enter your Cohere API key: \")\n",
    "\n",
    "# Initialize the Cohere client\n",
    "os.environ[\"COHERE_API_KEY\"] = COHERE_API_KEY\n",
    "\n",
    "# FastAPI endpoint\n",
    "FASTAPI_URL = \"http://127.0.0.1:8000/process-text/\"\n",
    "\n",
    "# FastAPI endpoint for fetching the array\n",
    "FASTAPI_ARRAY_URL = \"http://127.0.0.1:8000/get-array/\"\n",
    "\n",
    "# Initialize Flask app\n",
    "app = FastAPI()\n",
    "\n",
    "# Enable CORS for the Flask app\n"
   ]
  },
  {
   "cell_type": "code",
   "execution_count": 24,
   "id": "8ee5b981",
   "metadata": {},
   "outputs": [],
   "source": [
    "from langchain.llms import Cohere\n",
    "\n",
    "llm = Cohere(cohere_api_key=COHERE_API_KEY)\n",
    "\n",
    "def get_prompt_from_api(input_text):\n",
    "    try:\n",
    "        response = requests.post(\n",
    "            FASTAPI_URL,\n",
    "            json={\"text\": input_text},\n",
    "            headers={\"Content-Type\": \"application/json\"}\n",
    "        )\n",
    "        response.raise_for_status()\n",
    "        return response.json().get(\"processed_text\", \"\")\n",
    "    except Exception as e:\n",
    "        print(\"Error fetching prompt from API:\", e)\n",
    "        return None\n",
    "\n",
    "\n",
    "@app.route(\"/get-ai-response\", methods=[\"GET\"])\n",
    "def get_ai_response():\n",
    "    try:\n",
    "        # Fetch the array from FastAPI\n",
    "        response = requests.get(FASTAPI_ARRAY_URL, headers={\"Content-Type\": \"application/json\"})\n",
    "        response.raise_for_status()\n",
    "        text_array = response.json().get(\"array\", [])\n",
    "\n",
    "        if not text_array:\n",
    "            return jsonify({\"error\": \"Array is empty\"}), 400\n",
    "\n",
    "        # Get the last element of the array\n",
    "        last_text = text_array[-1]\n",
    "\n",
    "        # Get response from Cohere LLM\n",
    "        try:\n",
    "            llm_response = llm.invoke(last_text)\n",
    "            if not llm_response:\n",
    "                raise ValueError(\"LLM returned an empty response\")\n",
    "        except Exception as e:\n",
    "            return jsonify({\"error\": f\"Error processing LLM response: {str(e)}\"}), 500\n",
    "\n",
    "        return jsonify({\"response\": llm_response}), 200\n",
    "    except Exception as e:\n",
    "        return jsonify({\"error\": str(e)}), 500"
   ]
  },
  {
   "cell_type": "code",
   "execution_count": 22,
   "id": "9eecb3ab",
   "metadata": {},
   "outputs": [
    {
     "name": "stdout",
     "output_type": "stream",
     "text": [
      " * Serving Flask app '__main__'\n",
      " * Debug mode: off\n",
      " * Debug mode: off\n"
     ]
    },
    {
     "name": "stderr",
     "output_type": "stream",
     "text": [
      "WARNING: This is a development server. Do not use it in a production deployment. Use a production WSGI server instead.\n",
      " * Running on http://127.0.0.1:8000\n",
      "Press CTRL+C to quit\n",
      "\n",
      " * Running on http://127.0.0.1:8000\n",
      "Press CTRL+C to quit\n"
     ]
    }
   ],
   "source": [
    "# Run the Flask app\n",
    "if __name__ == \"__main__\":\n",
    "    app.run(port=8000)"
   ]
  }
 ],
 "metadata": {
  "kernelspec": {
   "display_name": "env",
   "language": "python",
   "name": "python3"
  },
  "language_info": {
   "codemirror_mode": {
    "name": "ipython",
    "version": 3
   },
   "file_extension": ".py",
   "mimetype": "text/x-python",
   "name": "python",
   "nbconvert_exporter": "python",
   "pygments_lexer": "ipython3",
   "version": "3.12.1"
  }
 },
 "nbformat": 4,
 "nbformat_minor": 5
}
